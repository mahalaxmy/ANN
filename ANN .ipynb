{
 "cells": [
  {
   "cell_type": "code",
   "execution_count": 1,
   "id": "8e477277",
   "metadata": {},
   "outputs": [],
   "source": [
    "# Importing libraries\n",
    "import pandas as pd\n",
    "import numpy as np\n",
    "import matplotlib.pyplot as plt\n",
    "import seaborn as sns"
   ]
  },
  {
   "cell_type": "code",
   "execution_count": 2,
   "id": "8b56627f",
   "metadata": {},
   "outputs": [],
   "source": [
    "data = pd.read_csv('data.csv')\n",
    "del data['Unnamed: 32']\n"
   ]
  },
  {
   "cell_type": "code",
   "execution_count": 3,
   "id": "071e6b50",
   "metadata": {},
   "outputs": [
    {
     "name": "stdout",
     "output_type": "stream",
     "text": [
      "<class 'pandas.core.frame.DataFrame'>\n",
      "RangeIndex: 569 entries, 0 to 568\n",
      "Data columns (total 32 columns):\n",
      " #   Column                   Non-Null Count  Dtype  \n",
      "---  ------                   --------------  -----  \n",
      " 0   id                       569 non-null    int64  \n",
      " 1   diagnosis                569 non-null    object \n",
      " 2   radius_mean              569 non-null    float64\n",
      " 3   texture_mean             569 non-null    float64\n",
      " 4   perimeter_mean           569 non-null    float64\n",
      " 5   area_mean                569 non-null    float64\n",
      " 6   smoothness_mean          569 non-null    float64\n",
      " 7   compactness_mean         569 non-null    float64\n",
      " 8   concavity_mean           569 non-null    float64\n",
      " 9   concave points_mean      569 non-null    float64\n",
      " 10  symmetry_mean            569 non-null    float64\n",
      " 11  fractal_dimension_mean   569 non-null    float64\n",
      " 12  radius_se                569 non-null    float64\n",
      " 13  texture_se               569 non-null    float64\n",
      " 14  perimeter_se             569 non-null    float64\n",
      " 15  area_se                  569 non-null    float64\n",
      " 16  smoothness_se            569 non-null    float64\n",
      " 17  compactness_se           569 non-null    float64\n",
      " 18  concavity_se             569 non-null    float64\n",
      " 19  concave points_se        569 non-null    float64\n",
      " 20  symmetry_se              569 non-null    float64\n",
      " 21  fractal_dimension_se     569 non-null    float64\n",
      " 22  radius_worst             569 non-null    float64\n",
      " 23  texture_worst            569 non-null    float64\n",
      " 24  perimeter_worst          569 non-null    float64\n",
      " 25  area_worst               569 non-null    float64\n",
      " 26  smoothness_worst         569 non-null    float64\n",
      " 27  compactness_worst        569 non-null    float64\n",
      " 28  concavity_worst          569 non-null    float64\n",
      " 29  concave points_worst     569 non-null    float64\n",
      " 30  symmetry_worst           569 non-null    float64\n",
      " 31  fractal_dimension_worst  569 non-null    float64\n",
      "dtypes: float64(30), int64(1), object(1)\n",
      "memory usage: 142.4+ KB\n"
     ]
    }
   ],
   "source": [
    "data.info()"
   ]
  },
  {
   "cell_type": "code",
   "execution_count": 4,
   "id": "86e16708",
   "metadata": {},
   "outputs": [],
   "source": [
    "#Feature and Label selection\n",
    "X = data.iloc[:, 2:].values\n",
    "y = data.iloc[:, 1].values"
   ]
  },
  {
   "cell_type": "code",
   "execution_count": 5,
   "id": "336d12e7",
   "metadata": {},
   "outputs": [
    {
     "data": {
      "text/plain": [
       "array(['M', 'M', 'M', 'M', 'M', 'M', 'M', 'M', 'M', 'M', 'M', 'M', 'M',\n",
       "       'M', 'M', 'M', 'M', 'M', 'M', 'B', 'B', 'B', 'M', 'M', 'M', 'M',\n",
       "       'M', 'M', 'M', 'M', 'M', 'M', 'M', 'M', 'M', 'M', 'M', 'B', 'M',\n",
       "       'M', 'M', 'M', 'M', 'M', 'M', 'M', 'B', 'M', 'B', 'B', 'B', 'B',\n",
       "       'B', 'M', 'M', 'B', 'M', 'M', 'B', 'B', 'B', 'B', 'M', 'B', 'M',\n",
       "       'M', 'B', 'B', 'B', 'B', 'M', 'B', 'M', 'M', 'B', 'M', 'B', 'M',\n",
       "       'M', 'B', 'B', 'B', 'M', 'M', 'B', 'M', 'M', 'M', 'B', 'B', 'B',\n",
       "       'M', 'B', 'B', 'M', 'M', 'B', 'B', 'B', 'M', 'M', 'B', 'B', 'B',\n",
       "       'B', 'M', 'B', 'B', 'M', 'B', 'B', 'B', 'B', 'B', 'B', 'B', 'B',\n",
       "       'M', 'M', 'M', 'B', 'M', 'M', 'B', 'B', 'B', 'M', 'M', 'B', 'M',\n",
       "       'B', 'M', 'M', 'B', 'M', 'M', 'B', 'B', 'M', 'B', 'B', 'M', 'B',\n",
       "       'B', 'B', 'B', 'M', 'B', 'B', 'B', 'B', 'B', 'B', 'B', 'B', 'B',\n",
       "       'M', 'B', 'B', 'B', 'B', 'M', 'M', 'B', 'M', 'B', 'B', 'M', 'M',\n",
       "       'B', 'B', 'M', 'M', 'B', 'B', 'B', 'B', 'M', 'B', 'B', 'M', 'M',\n",
       "       'M', 'B', 'M', 'B', 'M', 'B', 'B', 'B', 'M', 'B', 'B', 'M', 'M',\n",
       "       'B', 'M', 'M', 'M', 'M', 'B', 'M', 'M', 'M', 'B', 'M', 'B', 'M',\n",
       "       'B', 'B', 'M', 'B', 'M', 'M', 'M', 'M', 'B', 'B', 'M', 'M', 'B',\n",
       "       'B', 'B', 'M', 'B', 'B', 'B', 'B', 'B', 'M', 'M', 'B', 'B', 'M',\n",
       "       'B', 'B', 'M', 'M', 'B', 'M', 'B', 'B', 'B', 'B', 'M', 'B', 'B',\n",
       "       'B', 'B', 'B', 'M', 'B', 'M', 'M', 'M', 'M', 'M', 'M', 'M', 'M',\n",
       "       'M', 'M', 'M', 'M', 'M', 'M', 'B', 'B', 'B', 'B', 'B', 'B', 'M',\n",
       "       'B', 'M', 'B', 'B', 'M', 'B', 'B', 'M', 'B', 'M', 'M', 'B', 'B',\n",
       "       'B', 'B', 'B', 'B', 'B', 'B', 'B', 'B', 'B', 'B', 'B', 'M', 'B',\n",
       "       'B', 'M', 'B', 'M', 'B', 'B', 'B', 'B', 'B', 'B', 'B', 'B', 'B',\n",
       "       'B', 'B', 'B', 'B', 'B', 'M', 'B', 'B', 'B', 'M', 'B', 'M', 'B',\n",
       "       'B', 'B', 'B', 'M', 'M', 'M', 'B', 'B', 'B', 'B', 'M', 'B', 'M',\n",
       "       'B', 'M', 'B', 'B', 'B', 'M', 'B', 'B', 'B', 'B', 'B', 'B', 'B',\n",
       "       'M', 'M', 'M', 'B', 'B', 'B', 'B', 'B', 'B', 'B', 'B', 'B', 'B',\n",
       "       'B', 'M', 'M', 'B', 'M', 'M', 'M', 'B', 'M', 'M', 'B', 'B', 'B',\n",
       "       'B', 'B', 'M', 'B', 'B', 'B', 'B', 'B', 'M', 'B', 'B', 'B', 'M',\n",
       "       'B', 'B', 'M', 'M', 'B', 'B', 'B', 'B', 'B', 'B', 'M', 'B', 'B',\n",
       "       'B', 'B', 'B', 'B', 'B', 'M', 'B', 'B', 'B', 'B', 'B', 'M', 'B',\n",
       "       'B', 'M', 'B', 'B', 'B', 'B', 'B', 'B', 'B', 'B', 'B', 'B', 'B',\n",
       "       'B', 'M', 'B', 'M', 'M', 'B', 'M', 'B', 'B', 'B', 'B', 'B', 'M',\n",
       "       'B', 'B', 'M', 'B', 'M', 'B', 'B', 'M', 'B', 'M', 'B', 'B', 'B',\n",
       "       'B', 'B', 'B', 'B', 'B', 'M', 'M', 'B', 'B', 'B', 'B', 'B', 'B',\n",
       "       'M', 'B', 'B', 'B', 'B', 'B', 'B', 'B', 'B', 'B', 'B', 'M', 'B',\n",
       "       'B', 'B', 'B', 'B', 'B', 'B', 'M', 'B', 'M', 'B', 'B', 'M', 'B',\n",
       "       'B', 'B', 'B', 'B', 'M', 'M', 'B', 'M', 'B', 'M', 'B', 'B', 'B',\n",
       "       'B', 'B', 'M', 'B', 'B', 'M', 'B', 'M', 'B', 'M', 'M', 'B', 'B',\n",
       "       'B', 'M', 'B', 'B', 'B', 'B', 'B', 'B', 'B', 'B', 'B', 'B', 'B',\n",
       "       'M', 'B', 'M', 'M', 'B', 'B', 'B', 'B', 'B', 'B', 'B', 'B', 'B',\n",
       "       'B', 'B', 'B', 'B', 'B', 'B', 'B', 'B', 'B', 'B', 'B', 'B', 'B',\n",
       "       'B', 'B', 'B', 'M', 'M', 'M', 'M', 'M', 'M', 'B'], dtype=object)"
      ]
     },
     "execution_count": 5,
     "metadata": {},
     "output_type": "execute_result"
    }
   ],
   "source": [
    "y"
   ]
  },
  {
   "cell_type": "code",
   "execution_count": 6,
   "id": "6aec3470",
   "metadata": {},
   "outputs": [],
   "source": [
    "# Encoding categorical data\n",
    "from sklearn.preprocessing import LabelEncoder\n",
    "labelencoder_X_1 = LabelEncoder()\n",
    "y = labelencoder_X_1.fit_transform(y)"
   ]
  },
  {
   "cell_type": "code",
   "execution_count": 7,
   "id": "ee6d5d3a",
   "metadata": {},
   "outputs": [],
   "source": [
    "# Splitting the dataset into the Training set and Test set (30 - 70)\n",
    "from sklearn.model_selection import train_test_split\n",
    "X_train, X_test, y_train, y_test = train_test_split(X, y, test_size = 0.3, random_state = 0)\n"
   ]
  },
  {
   "cell_type": "code",
   "execution_count": 8,
   "id": "ce031bc8",
   "metadata": {},
   "outputs": [],
   "source": [
    "#Feature Scaling\n",
    "from sklearn.preprocessing import StandardScaler\n",
    "sc = StandardScaler()\n",
    "X_train = sc.fit_transform(X_train)\n",
    "X_test = sc.transform(X_test)"
   ]
  },
  {
   "cell_type": "code",
   "execution_count": 9,
   "id": "4df11e05",
   "metadata": {},
   "outputs": [],
   "source": [
    "import keras\n",
    "from keras.models import Sequential\n",
    "from keras.layers import Dense, Dropout\n",
    "\n",
    "# Initialising the ANN\n",
    "classifier = Sequential()"
   ]
  },
  {
   "cell_type": "code",
   "execution_count": 15,
   "id": "bd4b5e7d",
   "metadata": {},
   "outputs": [],
   "source": [
    "classifier.add(Dense(16, kernel_initializer='uniform', activation='relu', input_dim = 30))\n"
   ]
  },
  {
   "cell_type": "code",
   "execution_count": 17,
   "id": "a7e3bab6",
   "metadata": {},
   "outputs": [],
   "source": [
    "classifier.add(Dense(16, kernel_initializer='uniform', activation='relu'))\n"
   ]
  },
  {
   "cell_type": "code",
   "execution_count": 18,
   "id": "5dc1394b",
   "metadata": {},
   "outputs": [],
   "source": [
    "\n",
    "classifier.add(Dense(1, kernel_initializer='uniform', activation='sigmoid')) #classify"
   ]
  },
  {
   "cell_type": "code",
   "execution_count": 19,
   "id": "89868a39",
   "metadata": {},
   "outputs": [],
   "source": [
    "classifier.compile(optimizer='adam', loss='binary_crossentropy', metrics=['accuracy'])\n"
   ]
  },
  {
   "cell_type": "code",
   "execution_count": 20,
   "id": "48884298",
   "metadata": {},
   "outputs": [
    {
     "name": "stdout",
     "output_type": "stream",
     "text": [
      "Epoch 1/150\n",
      "4/4 [==============================] - 4s 282ms/step - loss: 0.6926 - accuracy: 0.6950 - val_loss: 0.6920 - val_accuracy: 0.6000\n",
      "Epoch 2/150\n",
      "4/4 [==============================] - 0s 32ms/step - loss: 0.6913 - accuracy: 0.6321 - val_loss: 0.6907 - val_accuracy: 0.6000\n",
      "Epoch 3/150\n",
      "4/4 [==============================] - 0s 33ms/step - loss: 0.6897 - accuracy: 0.6321 - val_loss: 0.6890 - val_accuracy: 0.6000\n",
      "Epoch 4/150\n",
      "4/4 [==============================] - 0s 36ms/step - loss: 0.6875 - accuracy: 0.6447 - val_loss: 0.6866 - val_accuracy: 0.6375\n",
      "Epoch 5/150\n",
      "4/4 [==============================] - 0s 32ms/step - loss: 0.6844 - accuracy: 0.6761 - val_loss: 0.6833 - val_accuracy: 0.6875\n",
      "Epoch 6/150\n",
      "4/4 [==============================] - 0s 32ms/step - loss: 0.6804 - accuracy: 0.7264 - val_loss: 0.6789 - val_accuracy: 0.7750\n",
      "Epoch 7/150\n",
      "4/4 [==============================] - 0s 34ms/step - loss: 0.6749 - accuracy: 0.8176 - val_loss: 0.6730 - val_accuracy: 0.8375\n",
      "Epoch 8/150\n",
      "4/4 [==============================] - 0s 33ms/step - loss: 0.6679 - accuracy: 0.8868 - val_loss: 0.6654 - val_accuracy: 0.9125\n",
      "Epoch 9/150\n",
      "4/4 [==============================] - 0s 31ms/step - loss: 0.6587 - accuracy: 0.9088 - val_loss: 0.6558 - val_accuracy: 0.9125\n",
      "Epoch 10/150\n",
      "4/4 [==============================] - 0s 35ms/step - loss: 0.6473 - accuracy: 0.9214 - val_loss: 0.6438 - val_accuracy: 0.9125\n",
      "Epoch 11/150\n",
      "4/4 [==============================] - 0s 31ms/step - loss: 0.6326 - accuracy: 0.9340 - val_loss: 0.6289 - val_accuracy: 0.9125\n",
      "Epoch 12/150\n",
      "4/4 [==============================] - 0s 38ms/step - loss: 0.6153 - accuracy: 0.9340 - val_loss: 0.6111 - val_accuracy: 0.9250\n",
      "Epoch 13/150\n",
      "4/4 [==============================] - 0s 38ms/step - loss: 0.5945 - accuracy: 0.9403 - val_loss: 0.5903 - val_accuracy: 0.9375\n",
      "Epoch 14/150\n",
      "4/4 [==============================] - 0s 36ms/step - loss: 0.5705 - accuracy: 0.9434 - val_loss: 0.5667 - val_accuracy: 0.9500\n",
      "Epoch 15/150\n",
      "4/4 [==============================] - 0s 37ms/step - loss: 0.5432 - accuracy: 0.9465 - val_loss: 0.5402 - val_accuracy: 0.9625\n",
      "Epoch 16/150\n",
      "4/4 [==============================] - 0s 37ms/step - loss: 0.5131 - accuracy: 0.9497 - val_loss: 0.5111 - val_accuracy: 0.9625\n",
      "Epoch 17/150\n",
      "4/4 [==============================] - 0s 38ms/step - loss: 0.4812 - accuracy: 0.9497 - val_loss: 0.4800 - val_accuracy: 0.9500\n",
      "Epoch 18/150\n",
      "4/4 [==============================] - 0s 40ms/step - loss: 0.4469 - accuracy: 0.9497 - val_loss: 0.4482 - val_accuracy: 0.9500\n",
      "Epoch 19/150\n",
      "4/4 [==============================] - 0s 36ms/step - loss: 0.4133 - accuracy: 0.9465 - val_loss: 0.4162 - val_accuracy: 0.9500\n",
      "Epoch 20/150\n",
      "4/4 [==============================] - 0s 34ms/step - loss: 0.3797 - accuracy: 0.9497 - val_loss: 0.3853 - val_accuracy: 0.9500\n",
      "Epoch 21/150\n",
      "4/4 [==============================] - 0s 32ms/step - loss: 0.3481 - accuracy: 0.9497 - val_loss: 0.3558 - val_accuracy: 0.9500\n",
      "Epoch 22/150\n",
      "4/4 [==============================] - 0s 37ms/step - loss: 0.3186 - accuracy: 0.9497 - val_loss: 0.3283 - val_accuracy: 0.9500\n",
      "Epoch 23/150\n",
      "4/4 [==============================] - 0s 35ms/step - loss: 0.2905 - accuracy: 0.9528 - val_loss: 0.3030 - val_accuracy: 0.9500\n",
      "Epoch 24/150\n",
      "4/4 [==============================] - 0s 40ms/step - loss: 0.2661 - accuracy: 0.9560 - val_loss: 0.2798 - val_accuracy: 0.9625\n",
      "Epoch 25/150\n",
      "4/4 [==============================] - 0s 35ms/step - loss: 0.2445 - accuracy: 0.9591 - val_loss: 0.2589 - val_accuracy: 0.9625\n",
      "Epoch 26/150\n",
      "4/4 [==============================] - 0s 39ms/step - loss: 0.2251 - accuracy: 0.9591 - val_loss: 0.2405 - val_accuracy: 0.9750\n",
      "Epoch 27/150\n",
      "4/4 [==============================] - 0s 34ms/step - loss: 0.2088 - accuracy: 0.9591 - val_loss: 0.2242 - val_accuracy: 0.9750\n",
      "Epoch 28/150\n",
      "4/4 [==============================] - 0s 36ms/step - loss: 0.1945 - accuracy: 0.9591 - val_loss: 0.2098 - val_accuracy: 0.9875\n",
      "Epoch 29/150\n",
      "4/4 [==============================] - 0s 33ms/step - loss: 0.1817 - accuracy: 0.9623 - val_loss: 0.1974 - val_accuracy: 0.9875\n",
      "Epoch 30/150\n",
      "4/4 [==============================] - 0s 30ms/step - loss: 0.1711 - accuracy: 0.9623 - val_loss: 0.1861 - val_accuracy: 0.9875\n",
      "Epoch 31/150\n",
      "4/4 [==============================] - 0s 32ms/step - loss: 0.1610 - accuracy: 0.9686 - val_loss: 0.1762 - val_accuracy: 0.9875\n",
      "Epoch 32/150\n",
      "4/4 [==============================] - 0s 35ms/step - loss: 0.1527 - accuracy: 0.9686 - val_loss: 0.1669 - val_accuracy: 0.9875\n",
      "Epoch 33/150\n",
      "4/4 [==============================] - 0s 32ms/step - loss: 0.1452 - accuracy: 0.9717 - val_loss: 0.1585 - val_accuracy: 0.9875\n",
      "Epoch 34/150\n",
      "4/4 [==============================] - 0s 33ms/step - loss: 0.1388 - accuracy: 0.9717 - val_loss: 0.1510 - val_accuracy: 0.9875\n",
      "Epoch 35/150\n",
      "4/4 [==============================] - 0s 31ms/step - loss: 0.1331 - accuracy: 0.9717 - val_loss: 0.1444 - val_accuracy: 0.9875\n",
      "Epoch 36/150\n",
      "4/4 [==============================] - 0s 33ms/step - loss: 0.1281 - accuracy: 0.9748 - val_loss: 0.1391 - val_accuracy: 0.9875\n",
      "Epoch 37/150\n",
      "4/4 [==============================] - 0s 31ms/step - loss: 0.1236 - accuracy: 0.9748 - val_loss: 0.1345 - val_accuracy: 0.9875\n",
      "Epoch 38/150\n",
      "4/4 [==============================] - 0s 32ms/step - loss: 0.1198 - accuracy: 0.9748 - val_loss: 0.1301 - val_accuracy: 0.9875\n",
      "Epoch 39/150\n",
      "4/4 [==============================] - 0s 34ms/step - loss: 0.1162 - accuracy: 0.9748 - val_loss: 0.1258 - val_accuracy: 0.9875\n",
      "Epoch 40/150\n",
      "4/4 [==============================] - 0s 33ms/step - loss: 0.1127 - accuracy: 0.9748 - val_loss: 0.1216 - val_accuracy: 0.9750\n",
      "Epoch 41/150\n",
      "4/4 [==============================] - 0s 39ms/step - loss: 0.1096 - accuracy: 0.9748 - val_loss: 0.1178 - val_accuracy: 0.9750\n",
      "Epoch 42/150\n",
      "4/4 [==============================] - 0s 32ms/step - loss: 0.1068 - accuracy: 0.9748 - val_loss: 0.1144 - val_accuracy: 0.9750\n",
      "Epoch 43/150\n",
      "4/4 [==============================] - 0s 31ms/step - loss: 0.1042 - accuracy: 0.9748 - val_loss: 0.1111 - val_accuracy: 0.9750\n",
      "Epoch 44/150\n",
      "4/4 [==============================] - 0s 32ms/step - loss: 0.1018 - accuracy: 0.9748 - val_loss: 0.1080 - val_accuracy: 0.9750\n",
      "Epoch 45/150\n",
      "4/4 [==============================] - 0s 39ms/step - loss: 0.0998 - accuracy: 0.9748 - val_loss: 0.1053 - val_accuracy: 0.9750\n",
      "Epoch 46/150\n",
      "4/4 [==============================] - 0s 41ms/step - loss: 0.0977 - accuracy: 0.9748 - val_loss: 0.1037 - val_accuracy: 0.9750\n",
      "Epoch 47/150\n",
      "4/4 [==============================] - 0s 39ms/step - loss: 0.0959 - accuracy: 0.9748 - val_loss: 0.1030 - val_accuracy: 0.9750\n",
      "Epoch 48/150\n",
      "4/4 [==============================] - 0s 36ms/step - loss: 0.0944 - accuracy: 0.9780 - val_loss: 0.1017 - val_accuracy: 0.9750\n",
      "Epoch 49/150\n",
      "4/4 [==============================] - 0s 39ms/step - loss: 0.0929 - accuracy: 0.9780 - val_loss: 0.1005 - val_accuracy: 0.9750\n",
      "Epoch 50/150\n",
      "4/4 [==============================] - 0s 40ms/step - loss: 0.0914 - accuracy: 0.9811 - val_loss: 0.0989 - val_accuracy: 0.9750\n",
      "Epoch 51/150\n",
      "4/4 [==============================] - 0s 33ms/step - loss: 0.0903 - accuracy: 0.9811 - val_loss: 0.0982 - val_accuracy: 0.9750\n",
      "Epoch 52/150\n",
      "4/4 [==============================] - 0s 36ms/step - loss: 0.0890 - accuracy: 0.9811 - val_loss: 0.0968 - val_accuracy: 0.9750\n",
      "Epoch 53/150\n",
      "4/4 [==============================] - 0s 39ms/step - loss: 0.0879 - accuracy: 0.9811 - val_loss: 0.0951 - val_accuracy: 0.9750\n",
      "Epoch 54/150\n",
      "4/4 [==============================] - 0s 37ms/step - loss: 0.0867 - accuracy: 0.9811 - val_loss: 0.0936 - val_accuracy: 0.9750\n",
      "Epoch 55/150\n",
      "4/4 [==============================] - 0s 31ms/step - loss: 0.0856 - accuracy: 0.9811 - val_loss: 0.0927 - val_accuracy: 0.9750\n",
      "Epoch 56/150\n",
      "4/4 [==============================] - 0s 32ms/step - loss: 0.0848 - accuracy: 0.9811 - val_loss: 0.0919 - val_accuracy: 0.9750\n",
      "Epoch 57/150\n",
      "4/4 [==============================] - 0s 31ms/step - loss: 0.0840 - accuracy: 0.9811 - val_loss: 0.0907 - val_accuracy: 0.9750\n",
      "Epoch 58/150\n",
      "4/4 [==============================] - 0s 32ms/step - loss: 0.0832 - accuracy: 0.9811 - val_loss: 0.0893 - val_accuracy: 0.9750\n",
      "Epoch 59/150\n"
     ]
    },
    {
     "name": "stdout",
     "output_type": "stream",
     "text": [
      "4/4 [==============================] - 0s 39ms/step - loss: 0.0823 - accuracy: 0.9811 - val_loss: 0.0875 - val_accuracy: 0.9750\n",
      "Epoch 60/150\n",
      "4/4 [==============================] - 0s 31ms/step - loss: 0.0813 - accuracy: 0.9811 - val_loss: 0.0857 - val_accuracy: 0.9750\n",
      "Epoch 61/150\n",
      "4/4 [==============================] - 0s 36ms/step - loss: 0.0805 - accuracy: 0.9811 - val_loss: 0.0838 - val_accuracy: 0.9750\n",
      "Epoch 62/150\n",
      "4/4 [==============================] - 0s 32ms/step - loss: 0.0795 - accuracy: 0.9811 - val_loss: 0.0819 - val_accuracy: 0.9750\n",
      "Epoch 63/150\n",
      "4/4 [==============================] - 0s 32ms/step - loss: 0.0786 - accuracy: 0.9811 - val_loss: 0.0802 - val_accuracy: 0.9750\n",
      "Epoch 64/150\n",
      "4/4 [==============================] - 0s 30ms/step - loss: 0.0779 - accuracy: 0.9811 - val_loss: 0.0792 - val_accuracy: 0.9750\n",
      "Epoch 65/150\n",
      "4/4 [==============================] - 0s 32ms/step - loss: 0.0772 - accuracy: 0.9811 - val_loss: 0.0783 - val_accuracy: 0.9750\n",
      "Epoch 66/150\n",
      "4/4 [==============================] - 0s 30ms/step - loss: 0.0765 - accuracy: 0.9811 - val_loss: 0.0774 - val_accuracy: 0.9750\n",
      "Epoch 67/150\n",
      "4/4 [==============================] - 0s 31ms/step - loss: 0.0756 - accuracy: 0.9811 - val_loss: 0.0763 - val_accuracy: 0.9750\n",
      "Epoch 68/150\n",
      "4/4 [==============================] - 0s 34ms/step - loss: 0.0748 - accuracy: 0.9811 - val_loss: 0.0753 - val_accuracy: 0.9750\n",
      "Epoch 69/150\n",
      "4/4 [==============================] - 0s 37ms/step - loss: 0.0741 - accuracy: 0.9811 - val_loss: 0.0741 - val_accuracy: 0.9750\n",
      "Epoch 70/150\n",
      "4/4 [==============================] - 0s 32ms/step - loss: 0.0734 - accuracy: 0.9811 - val_loss: 0.0729 - val_accuracy: 0.9750\n",
      "Epoch 71/150\n",
      "4/4 [==============================] - 0s 31ms/step - loss: 0.0728 - accuracy: 0.9811 - val_loss: 0.0717 - val_accuracy: 0.9750\n",
      "Epoch 72/150\n",
      "4/4 [==============================] - 0s 40ms/step - loss: 0.0722 - accuracy: 0.9811 - val_loss: 0.0711 - val_accuracy: 0.9750\n",
      "Epoch 73/150\n",
      "4/4 [==============================] - 0s 39ms/step - loss: 0.0716 - accuracy: 0.9811 - val_loss: 0.0706 - val_accuracy: 0.9750\n",
      "Epoch 74/150\n",
      "4/4 [==============================] - 0s 38ms/step - loss: 0.0711 - accuracy: 0.9811 - val_loss: 0.0698 - val_accuracy: 0.9750\n",
      "Epoch 75/150\n",
      "4/4 [==============================] - 0s 35ms/step - loss: 0.0706 - accuracy: 0.9811 - val_loss: 0.0689 - val_accuracy: 0.9750\n",
      "Epoch 76/150\n",
      "4/4 [==============================] - 0s 39ms/step - loss: 0.0701 - accuracy: 0.9811 - val_loss: 0.0673 - val_accuracy: 0.9875\n",
      "Epoch 77/150\n",
      "4/4 [==============================] - 0s 39ms/step - loss: 0.0695 - accuracy: 0.9811 - val_loss: 0.0658 - val_accuracy: 0.9875\n",
      "Epoch 78/150\n",
      "4/4 [==============================] - 0s 33ms/step - loss: 0.0689 - accuracy: 0.9811 - val_loss: 0.0645 - val_accuracy: 0.9875\n",
      "Epoch 79/150\n",
      "4/4 [==============================] - 0s 34ms/step - loss: 0.0686 - accuracy: 0.9811 - val_loss: 0.0634 - val_accuracy: 0.9875\n",
      "Epoch 80/150\n",
      "4/4 [==============================] - 0s 35ms/step - loss: 0.0680 - accuracy: 0.9811 - val_loss: 0.0626 - val_accuracy: 0.9875\n",
      "Epoch 81/150\n",
      "4/4 [==============================] - 0s 43ms/step - loss: 0.0676 - accuracy: 0.9811 - val_loss: 0.0617 - val_accuracy: 0.9875\n",
      "Epoch 82/150\n",
      "4/4 [==============================] - 0s 31ms/step - loss: 0.0672 - accuracy: 0.9811 - val_loss: 0.0611 - val_accuracy: 0.9875\n",
      "Epoch 83/150\n",
      "4/4 [==============================] - 0s 33ms/step - loss: 0.0665 - accuracy: 0.9811 - val_loss: 0.0610 - val_accuracy: 0.9875\n",
      "Epoch 84/150\n",
      "4/4 [==============================] - 0s 32ms/step - loss: 0.0660 - accuracy: 0.9843 - val_loss: 0.0607 - val_accuracy: 0.9750\n",
      "Epoch 85/150\n",
      "4/4 [==============================] - 0s 31ms/step - loss: 0.0657 - accuracy: 0.9843 - val_loss: 0.0601 - val_accuracy: 0.9750\n",
      "Epoch 86/150\n",
      "4/4 [==============================] - 0s 32ms/step - loss: 0.0653 - accuracy: 0.9843 - val_loss: 0.0599 - val_accuracy: 0.9750\n",
      "Epoch 87/150\n",
      "4/4 [==============================] - 0s 33ms/step - loss: 0.0650 - accuracy: 0.9843 - val_loss: 0.0606 - val_accuracy: 0.9750\n",
      "Epoch 88/150\n",
      "4/4 [==============================] - 0s 31ms/step - loss: 0.0644 - accuracy: 0.9843 - val_loss: 0.0609 - val_accuracy: 0.9750\n",
      "Epoch 89/150\n",
      "4/4 [==============================] - 0s 34ms/step - loss: 0.0640 - accuracy: 0.9843 - val_loss: 0.0608 - val_accuracy: 0.9750\n",
      "Epoch 90/150\n",
      "4/4 [==============================] - 0s 31ms/step - loss: 0.0636 - accuracy: 0.9843 - val_loss: 0.0606 - val_accuracy: 0.9750\n",
      "Epoch 91/150\n",
      "4/4 [==============================] - 0s 30ms/step - loss: 0.0633 - accuracy: 0.9843 - val_loss: 0.0605 - val_accuracy: 0.9750\n",
      "Epoch 92/150\n",
      "4/4 [==============================] - 0s 32ms/step - loss: 0.0628 - accuracy: 0.9843 - val_loss: 0.0611 - val_accuracy: 0.9750\n",
      "Epoch 93/150\n",
      "4/4 [==============================] - 0s 30ms/step - loss: 0.0625 - accuracy: 0.9843 - val_loss: 0.0623 - val_accuracy: 0.9750\n",
      "Epoch 94/150\n",
      "4/4 [==============================] - 0s 33ms/step - loss: 0.0622 - accuracy: 0.9843 - val_loss: 0.0628 - val_accuracy: 0.9750\n",
      "Epoch 95/150\n",
      "4/4 [==============================] - 0s 31ms/step - loss: 0.0618 - accuracy: 0.9843 - val_loss: 0.0625 - val_accuracy: 0.9750\n",
      "Epoch 96/150\n",
      "4/4 [==============================] - 0s 33ms/step - loss: 0.0613 - accuracy: 0.9843 - val_loss: 0.0622 - val_accuracy: 0.9750\n",
      "Epoch 97/150\n",
      "4/4 [==============================] - 0s 43ms/step - loss: 0.0609 - accuracy: 0.9843 - val_loss: 0.0622 - val_accuracy: 0.9750\n",
      "Epoch 98/150\n",
      "4/4 [==============================] - 0s 31ms/step - loss: 0.0605 - accuracy: 0.9843 - val_loss: 0.0618 - val_accuracy: 0.9750\n",
      "Epoch 99/150\n",
      "4/4 [==============================] - 0s 42ms/step - loss: 0.0601 - accuracy: 0.9843 - val_loss: 0.0612 - val_accuracy: 0.9750\n",
      "Epoch 100/150\n",
      "4/4 [==============================] - 0s 37ms/step - loss: 0.0595 - accuracy: 0.9843 - val_loss: 0.0608 - val_accuracy: 0.9750\n",
      "Epoch 101/150\n",
      "4/4 [==============================] - 0s 32ms/step - loss: 0.0590 - accuracy: 0.9843 - val_loss: 0.0602 - val_accuracy: 0.9750\n",
      "Epoch 102/150\n",
      "4/4 [==============================] - 0s 32ms/step - loss: 0.0585 - accuracy: 0.9843 - val_loss: 0.0593 - val_accuracy: 0.9750\n",
      "Epoch 103/150\n",
      "4/4 [==============================] - 0s 37ms/step - loss: 0.0583 - accuracy: 0.9843 - val_loss: 0.0583 - val_accuracy: 0.9750\n",
      "Epoch 104/150\n",
      "4/4 [==============================] - 0s 37ms/step - loss: 0.0578 - accuracy: 0.9843 - val_loss: 0.0576 - val_accuracy: 0.9750\n",
      "Epoch 105/150\n",
      "4/4 [==============================] - 0s 34ms/step - loss: 0.0577 - accuracy: 0.9843 - val_loss: 0.0571 - val_accuracy: 0.9750\n",
      "Epoch 106/150\n",
      "4/4 [==============================] - 0s 35ms/step - loss: 0.0573 - accuracy: 0.9843 - val_loss: 0.0574 - val_accuracy: 0.9750\n",
      "Epoch 107/150\n",
      "4/4 [==============================] - 0s 33ms/step - loss: 0.0568 - accuracy: 0.9843 - val_loss: 0.0574 - val_accuracy: 0.9750\n",
      "Epoch 108/150\n",
      "4/4 [==============================] - 0s 32ms/step - loss: 0.0564 - accuracy: 0.9843 - val_loss: 0.0575 - val_accuracy: 0.9750\n",
      "Epoch 109/150\n",
      "4/4 [==============================] - 0s 29ms/step - loss: 0.0561 - accuracy: 0.9843 - val_loss: 0.0578 - val_accuracy: 0.9750\n",
      "Epoch 110/150\n",
      "4/4 [==============================] - 0s 31ms/step - loss: 0.0560 - accuracy: 0.9843 - val_loss: 0.0580 - val_accuracy: 0.9750\n",
      "Epoch 111/150\n",
      "4/4 [==============================] - 0s 31ms/step - loss: 0.0555 - accuracy: 0.9843 - val_loss: 0.0579 - val_accuracy: 0.9750\n",
      "Epoch 112/150\n",
      "4/4 [==============================] - 0s 32ms/step - loss: 0.0553 - accuracy: 0.9843 - val_loss: 0.0578 - val_accuracy: 0.9750\n",
      "Epoch 113/150\n",
      "4/4 [==============================] - 0s 33ms/step - loss: 0.0549 - accuracy: 0.9843 - val_loss: 0.0579 - val_accuracy: 0.9750\n",
      "Epoch 114/150\n",
      "4/4 [==============================] - 0s 33ms/step - loss: 0.0546 - accuracy: 0.9843 - val_loss: 0.0584 - val_accuracy: 0.9750\n",
      "Epoch 115/150\n",
      "4/4 [==============================] - 0s 38ms/step - loss: 0.0547 - accuracy: 0.9843 - val_loss: 0.0590 - val_accuracy: 0.9750\n",
      "Epoch 116/150\n",
      "4/4 [==============================] - 0s 33ms/step - loss: 0.0544 - accuracy: 0.9843 - val_loss: 0.0591 - val_accuracy: 0.9750\n",
      "Epoch 117/150\n"
     ]
    },
    {
     "name": "stdout",
     "output_type": "stream",
     "text": [
      "4/4 [==============================] - 0s 32ms/step - loss: 0.0541 - accuracy: 0.9843 - val_loss: 0.0593 - val_accuracy: 0.9750\n",
      "Epoch 118/150\n",
      "4/4 [==============================] - 0s 32ms/step - loss: 0.0539 - accuracy: 0.9843 - val_loss: 0.0601 - val_accuracy: 0.9750\n",
      "Epoch 119/150\n",
      "4/4 [==============================] - 0s 30ms/step - loss: 0.0537 - accuracy: 0.9843 - val_loss: 0.0602 - val_accuracy: 0.9750\n",
      "Epoch 120/150\n",
      "4/4 [==============================] - 0s 31ms/step - loss: 0.0533 - accuracy: 0.9843 - val_loss: 0.0597 - val_accuracy: 0.9750\n",
      "Epoch 121/150\n",
      "4/4 [==============================] - 0s 32ms/step - loss: 0.0528 - accuracy: 0.9843 - val_loss: 0.0594 - val_accuracy: 0.9750\n",
      "Epoch 122/150\n",
      "4/4 [==============================] - 0s 29ms/step - loss: 0.0524 - accuracy: 0.9843 - val_loss: 0.0590 - val_accuracy: 0.9750\n",
      "Epoch 123/150\n",
      "4/4 [==============================] - 0s 31ms/step - loss: 0.0519 - accuracy: 0.9843 - val_loss: 0.0593 - val_accuracy: 0.9750\n",
      "Epoch 124/150\n",
      "4/4 [==============================] - 0s 31ms/step - loss: 0.0516 - accuracy: 0.9843 - val_loss: 0.0591 - val_accuracy: 0.9750\n",
      "Epoch 125/150\n",
      "4/4 [==============================] - 0s 34ms/step - loss: 0.0513 - accuracy: 0.9843 - val_loss: 0.0589 - val_accuracy: 0.9750\n",
      "Epoch 126/150\n",
      "4/4 [==============================] - 0s 42ms/step - loss: 0.0509 - accuracy: 0.9843 - val_loss: 0.0587 - val_accuracy: 0.9750\n",
      "Epoch 127/150\n",
      "4/4 [==============================] - 0s 38ms/step - loss: 0.0506 - accuracy: 0.9843 - val_loss: 0.0592 - val_accuracy: 0.9750\n",
      "Epoch 128/150\n",
      "4/4 [==============================] - 0s 33ms/step - loss: 0.0503 - accuracy: 0.9843 - val_loss: 0.0593 - val_accuracy: 0.9750\n",
      "Epoch 129/150\n",
      "4/4 [==============================] - 0s 42ms/step - loss: 0.0500 - accuracy: 0.9843 - val_loss: 0.0594 - val_accuracy: 0.9750\n",
      "Epoch 130/150\n",
      "4/4 [==============================] - 0s 36ms/step - loss: 0.0497 - accuracy: 0.9843 - val_loss: 0.0599 - val_accuracy: 0.9750\n",
      "Epoch 131/150\n",
      "4/4 [==============================] - 0s 38ms/step - loss: 0.0495 - accuracy: 0.9843 - val_loss: 0.0599 - val_accuracy: 0.9750\n",
      "Epoch 132/150\n",
      "4/4 [==============================] - 0s 40ms/step - loss: 0.0492 - accuracy: 0.9843 - val_loss: 0.0594 - val_accuracy: 0.9750\n",
      "Epoch 133/150\n",
      "4/4 [==============================] - 0s 32ms/step - loss: 0.0489 - accuracy: 0.9843 - val_loss: 0.0588 - val_accuracy: 0.9750\n",
      "Epoch 134/150\n",
      "4/4 [==============================] - 0s 37ms/step - loss: 0.0486 - accuracy: 0.9843 - val_loss: 0.0585 - val_accuracy: 0.9750\n",
      "Epoch 135/150\n",
      "4/4 [==============================] - 0s 31ms/step - loss: 0.0483 - accuracy: 0.9843 - val_loss: 0.0582 - val_accuracy: 0.9875\n",
      "Epoch 136/150\n",
      "4/4 [==============================] - 0s 35ms/step - loss: 0.0480 - accuracy: 0.9843 - val_loss: 0.0579 - val_accuracy: 0.9875\n",
      "Epoch 137/150\n",
      "4/4 [==============================] - 0s 32ms/step - loss: 0.0477 - accuracy: 0.9843 - val_loss: 0.0575 - val_accuracy: 0.9875\n",
      "Epoch 138/150\n",
      "4/4 [==============================] - 0s 31ms/step - loss: 0.0475 - accuracy: 0.9843 - val_loss: 0.0572 - val_accuracy: 0.9875\n",
      "Epoch 139/150\n",
      "4/4 [==============================] - 0s 32ms/step - loss: 0.0470 - accuracy: 0.9843 - val_loss: 0.0573 - val_accuracy: 0.9875\n",
      "Epoch 140/150\n",
      "4/4 [==============================] - 0s 29ms/step - loss: 0.0467 - accuracy: 0.9843 - val_loss: 0.0574 - val_accuracy: 0.9875\n",
      "Epoch 141/150\n",
      "4/4 [==============================] - 0s 37ms/step - loss: 0.0465 - accuracy: 0.9843 - val_loss: 0.0581 - val_accuracy: 0.9875\n",
      "Epoch 142/150\n",
      "4/4 [==============================] - 0s 34ms/step - loss: 0.0462 - accuracy: 0.9843 - val_loss: 0.0587 - val_accuracy: 0.9875\n",
      "Epoch 143/150\n",
      "4/4 [==============================] - 0s 30ms/step - loss: 0.0460 - accuracy: 0.9843 - val_loss: 0.0590 - val_accuracy: 0.9875\n",
      "Epoch 144/150\n",
      "4/4 [==============================] - 0s 38ms/step - loss: 0.0458 - accuracy: 0.9843 - val_loss: 0.0589 - val_accuracy: 0.9875\n",
      "Epoch 145/150\n",
      "4/4 [==============================] - 0s 31ms/step - loss: 0.0454 - accuracy: 0.9874 - val_loss: 0.0586 - val_accuracy: 0.9875\n",
      "Epoch 146/150\n",
      "4/4 [==============================] - 0s 34ms/step - loss: 0.0451 - accuracy: 0.9874 - val_loss: 0.0579 - val_accuracy: 0.9875\n",
      "Epoch 147/150\n",
      "4/4 [==============================] - 0s 30ms/step - loss: 0.0447 - accuracy: 0.9874 - val_loss: 0.0575 - val_accuracy: 0.9875\n",
      "Epoch 148/150\n",
      "4/4 [==============================] - 0s 30ms/step - loss: 0.0445 - accuracy: 0.9874 - val_loss: 0.0581 - val_accuracy: 0.9875\n",
      "Epoch 149/150\n",
      "4/4 [==============================] - 0s 32ms/step - loss: 0.0441 - accuracy: 0.9874 - val_loss: 0.0584 - val_accuracy: 0.9875\n",
      "Epoch 150/150\n",
      "4/4 [==============================] - 0s 32ms/step - loss: 0.0439 - accuracy: 0.9874 - val_loss: 0.0592 - val_accuracy: 0.9875\n"
     ]
    },
    {
     "data": {
      "text/plain": [
       "<keras.src.callbacks.History at 0x1b5c9051c40>"
      ]
     },
     "execution_count": 20,
     "metadata": {},
     "output_type": "execute_result"
    }
   ],
   "source": [
    "classifier.fit(X_train, y_train, batch_size=100, epochs=150, validation_split=0.2)\n"
   ]
  },
  {
   "cell_type": "code",
   "execution_count": 22,
   "id": "74c78239",
   "metadata": {},
   "outputs": [
    {
     "name": "stdout",
     "output_type": "stream",
     "text": [
      "6/6 [==============================] - 0s 3ms/step\n"
     ]
    }
   ],
   "source": [
    "# Testing ANN Model\n",
    "#seperating as class 0 and 1 as per sigmoid function\n",
    "y_pred = classifier.predict(X_test)\n",
    "y_pred = (y_pred > 0.5)"
   ]
  },
  {
   "cell_type": "code",
   "execution_count": 23,
   "id": "b704f577",
   "metadata": {},
   "outputs": [
    {
     "name": "stdout",
     "output_type": "stream",
     "text": [
      "6/6 [==============================] - 0s 5ms/step - loss: 0.1076 - accuracy: 0.9532\n"
     ]
    }
   ],
   "source": [
    "loss, accuracy = classifier.evaluate(X_test, y_test)\n"
   ]
  },
  {
   "cell_type": "code",
   "execution_count": 24,
   "id": "053ac0d2",
   "metadata": {},
   "outputs": [
    {
     "name": "stdout",
     "output_type": "stream",
     "text": [
      "Loss in the ANN Model design : 0.1076\n",
      "Accuracy in the ANN Model design : 95.3216\n"
     ]
    }
   ],
   "source": [
    "print(f'Loss in the ANN Model design : {loss:.4f}')\n",
    "print(f'Accuracy in the ANN Model design : {accuracy*100:.4f}')"
   ]
  },
  {
   "cell_type": "code",
   "execution_count": 26,
   "id": "79adc26b",
   "metadata": {},
   "outputs": [],
   "source": [
    "from sklearn.metrics import confusion_matrix\n",
    "\n",
    "cm = confusion_matrix(y_test,y_pred)\n"
   ]
  },
  {
   "cell_type": "code",
   "execution_count": 27,
   "id": "e46b6de0",
   "metadata": {},
   "outputs": [
    {
     "data": {
      "text/plain": [
       "array([[102,   6],\n",
       "       [  2,  61]], dtype=int64)"
      ]
     },
     "execution_count": 27,
     "metadata": {},
     "output_type": "execute_result"
    }
   ],
   "source": [
    "cm"
   ]
  },
  {
   "cell_type": "code",
   "execution_count": 29,
   "id": "8232e4a4",
   "metadata": {},
   "outputs": [
    {
     "name": "stdout",
     "output_type": "stream",
     "text": [
      "6/6 [==============================] - 0s 3ms/step\n",
      "AUC Score: 0.9917695473251029\n"
     ]
    }
   ],
   "source": [
    "from sklearn.metrics import confusion_matrix, roc_auc_score, roc_curve, auc\n",
    "\n",
    "y_pred_1 = classifier.predict(X_test)\n",
    "\n",
    "# AUC score for the binary classification problem\n",
    "auc_score = roc_auc_score(y_test, y_pred_1)\n",
    "\n",
    "print(\"AUC Score:\", auc_score)"
   ]
  },
  {
   "cell_type": "code",
   "execution_count": 30,
   "id": "1e34c9ab",
   "metadata": {},
   "outputs": [
    {
     "data": {
      "image/png": "[encoded data removed]",
      "text/plain": [
       "<Figure size 1000x500 with 1 Axes>"
      ]
     },
     "metadata": {},
     "output_type": "display_data"
    }
   ],
   "source": [
    "fpr, tpr, thresholds = roc_curve(y_test, y_pred_1)\n",
    "roc_auc = auc(fpr, tpr)\n",
    "\n",
    "# Plot ROC curve\n",
    "plt.figure(figsize=(10,5))\n",
    "plt.plot(fpr, tpr, color='darkorange', label='ROC curve (area = %0.2f)' % roc_auc)\n",
    "plt.plot([0, 1], [0, 1], color='navy', linestyle='--')\n",
    "plt.xlabel('False Positive Rate')\n",
    "plt.ylabel('True Positive Rate')\n",
    "plt.legend(loc=\"lower right\")\n",
    "plt.show()"
   ]
  }
 ],
 "metadata": {
  "kernelspec": {
   "display_name": "Python 3 (ipykernel)",
   "language": "python",
   "name": "python3"
  },
  "language_info": {
   "codemirror_mode": {
    "name": "ipython",
    "version": 3
   },
   "file_extension": ".py",
   "mimetype": "text/x-python",
   "name": "python",
   "nbconvert_exporter": "python",
   "pygments_lexer": "ipython3",
   "version": "3.9.12"
  }
 },
 "nbformat": 4,
 "nbformat_minor": 5
}
