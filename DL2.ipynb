{
  "cells": [
    {
      "cell_type": "markdown",
      "metadata": {
        "id": "view-in-github",
        "colab_type": "text"
      },
      "source": [
        "<a href=\"https://colab.research.google.com/github/mahalaxmy/ANN/blob/main/DL2.ipynb\" target=\"_parent\"><img src=\"https://colab.research.google.com/assets/colab-badge.svg\" alt=\"Open In Colab\"/></a>"
      ]
    },
    {
      "cell_type": "markdown",
      "source": [],
      "metadata": {
        "id": "oL7P24Obxd7w"
      }
    },
    {
      "cell_type": "markdown",
      "source": [
        "SCALARS"
      ],
      "metadata": {
        "id": "NxnjmChPpQzx"
      }
    },
    {
      "cell_type": "code",
      "source": [
        " import numpy as np\n",
        " x = np.array(10)"
      ],
      "metadata": {
        "id": "vtD-n1OvkRok"
      },
      "execution_count": null,
      "outputs": []
    },
    {
      "cell_type": "code",
      "source": [
        "x"
      ],
      "metadata": {
        "colab": {
          "base_uri": "https://localhost:8080/"
        },
        "id": "zGPWIBg2icRb",
        "outputId": "1e789bff-a377-46b9-f890-9b551a9b61c6"
      },
      "execution_count": null,
      "outputs": [
        {
          "output_type": "execute_result",
          "data": {
            "text/plain": [
              "array(10)"
            ]
          },
          "metadata": {},
          "execution_count": 2
        }
      ]
    },
    {
      "cell_type": "code",
      "source": [
        "x.ndim"
      ],
      "metadata": {
        "colab": {
          "base_uri": "https://localhost:8080/"
        },
        "id": "U4Wuz7RjicUi",
        "outputId": "9def3f59-3627-4b90-ab90-6afd1fc4a315"
      },
      "execution_count": null,
      "outputs": [
        {
          "output_type": "execute_result",
          "data": {
            "text/plain": [
              "0"
            ]
          },
          "metadata": {},
          "execution_count": 3
        }
      ]
    },
    {
      "cell_type": "markdown",
      "source": [
        "VECTORS"
      ],
      "metadata": {
        "id": "1fiNGWerpTX_"
      }
    },
    {
      "cell_type": "code",
      "source": [
        " y = np.array([12, 3, 6, 14, 8])"
      ],
      "metadata": {
        "id": "jGlAioTEicaa"
      },
      "execution_count": null,
      "outputs": []
    },
    {
      "cell_type": "code",
      "source": [
        "y"
      ],
      "metadata": {
        "colab": {
          "base_uri": "https://localhost:8080/"
        },
        "id": "uo-rpIQ3icdy",
        "outputId": "027b3814-5332-447b-daa4-192de5f095f6"
      },
      "execution_count": null,
      "outputs": [
        {
          "output_type": "execute_result",
          "data": {
            "text/plain": [
              "array([12,  3,  6, 14,  8])"
            ]
          },
          "metadata": {},
          "execution_count": 5
        }
      ]
    },
    {
      "cell_type": "code",
      "source": [
        " y.ndim"
      ],
      "metadata": {
        "colab": {
          "base_uri": "https://localhost:8080/"
        },
        "id": "Rj3v7jw2icg6",
        "outputId": "08e8f9c6-ca0f-441f-f441-aad2646ce466"
      },
      "execution_count": null,
      "outputs": [
        {
          "output_type": "execute_result",
          "data": {
            "text/plain": [
              "1"
            ]
          },
          "metadata": {},
          "execution_count": 6
        }
      ]
    },
    {
      "cell_type": "markdown",
      "source": [
        "MATRICS"
      ],
      "metadata": {
        "id": "bbucaSf6pw8N"
      }
    },
    {
      "cell_type": "code",
      "source": [
        "Z = np.array([[5, 8, 2, 34, 0],\n",
        "[6, 79, 30, 35, 1],\n",
        "[9, 80, 49, 6, 2]])"
      ],
      "metadata": {
        "id": "b_0_RagIp0Bv"
      },
      "execution_count": null,
      "outputs": []
    },
    {
      "cell_type": "code",
      "source": [
        "  Z.ndim"
      ],
      "metadata": {
        "colab": {
          "base_uri": "https://localhost:8080/"
        },
        "id": "YmeFOuIlp0Em",
        "outputId": "e778aa77-aaff-41d6-ab24-c4be3fdabaec"
      },
      "execution_count": null,
      "outputs": [
        {
          "output_type": "execute_result",
          "data": {
            "text/plain": [
              "2"
            ]
          },
          "metadata": {},
          "execution_count": 9
        }
      ]
    },
    {
      "cell_type": "markdown",
      "source": [
        "3D TENSORS"
      ],
      "metadata": {
        "id": "4_rvzRROqDvQ"
      }
    },
    {
      "cell_type": "code",
      "source": [
        "a= np.array([[[5, 8, 20, 34, 0],\n",
        "[6, 7, 3, 5, 1],\n",
        "[7, 80, 4, 36, 2]],\n",
        "[[5, 7, 2, 34, 0],\n",
        "[6, 79, 3, 35, 1],\n",
        "[7, 8, 4, 36, 2]],\n",
        "[[5, 78, 2, 3, 0],\n",
        "[6, 19, 3, 3, 1],\n",
        "[7, 8, 4, 36, 24]]])"
      ],
      "metadata": {
        "id": "D9Q3i5Ykp0HX"
      },
      "execution_count": null,
      "outputs": []
    },
    {
      "cell_type": "code",
      "source": [
        "a.ndim"
      ],
      "metadata": {
        "colab": {
          "base_uri": "https://localhost:8080/"
        },
        "id": "lEc0rGX7p0Mf",
        "outputId": "8df6f802-dbe5-483a-dd22-f3dbc1e7cbd0"
      },
      "execution_count": null,
      "outputs": [
        {
          "output_type": "execute_result",
          "data": {
            "text/plain": [
              "3"
            ]
          },
          "metadata": {},
          "execution_count": 13
        }
      ]
    }
  ],
  "metadata": {
    "colab": {
      "provenance": [],
      "authorship_tag": "ABX9TyMbnt56XtS89rmMXWHNnkL2",
      "include_colab_link": true
    },
    "kernelspec": {
      "display_name": "Python 3",
      "name": "python3"
    },
    "language_info": {
      "name": "python"
    }
  },
  "nbformat": 4,
  "nbformat_minor": 0
}